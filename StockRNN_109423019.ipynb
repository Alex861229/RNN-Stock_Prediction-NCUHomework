{
 "cells": [
  {
   "cell_type": "markdown",
   "metadata": {
    "id": "iRAa8Hh-d4F3"
   },
   "source": [
    "![](https://i.imgur.com/3twMqGw.png)\n",
    "\n",
    "# 作業2 : 股票預測\n",
    "\n",
    "**請挑選一家公司來做預測**\n",
    "\n",
    "資料集: [鉅亨網](https://www.cnyes.com/)\n",
    "\n",
    "> **資料集說明**\n",
    "\n",
    "別人恐懼我貪婪，一張不賣奇蹟來。\n",
    "\n",
    ">**作業說明**\n",
    "\n",
    "**第一步驟**: 左上角 檔案->在雲端硬碟建立副本。\n",
    "\n",
    "**第二步驟**: 右上角 共用->取得連結->任何知道這個連結的人都能編輯\n",
    "\n",
    "**第三步驟**: 左上角 執行階段->更變執行類型->GPU。 可以加快模型速度\n",
    "\n",
    "**第四步驟**: 檔案名稱，請填寫你的學號，把副本上下引號刪掉\n",
    "\n",
    "請 **隨意修改** 這個colab的程式來完成訓練RNN模型。**不必一定要照著todo提示走。**\n",
    "繳交時記得改檔案標題的學號。\n",
    "\n",
    "> **作業限制**\n",
    "\n",
    "1. 不要動資料集、不要在訓練時偷看test data\n",
    "2. 模型請手刻、手疊，**不要用Transfer Learning**，你可以手刻transformer。\n",
    "3. **不要抄襲**\n",
    "\n",
    "> **作業繳交**\n",
    "\n",
    "1. 完成訓練後保存output結果，更改**檔名學號**，左上角 檔案->下載 成ipynb檔。\n",
    "2. 交一個**pdf**檔，裡面需要附上**你的作業colab連結(設為可編輯、所有人觀看)**、姓名學號年級、過程和執行結果的截圖，並說明你程式撰寫的過程、本次作業心得(字數不限)。\n",
    "3. 上述三個檔案繳交至ee-class。(Text Generation、Stock、PDF)\n",
    "\n",
    "> **繳交期限**\n",
    "\n",
    "1. 電子商務技術(IM5002): 期限至2021/5/3(一) 23:59分\n",
    "2. 人工智慧與機器學習(IM3078): 期限至2021/5/3(一) 23:59分\n",
    "3. 電子商務智慧技術(IMA0200): 期限至2021/5/8(六) 23:59分\n",
    "\n",
    "> **算分標準**\n",
    "\n",
    "Text Generation(30) + Stock RNN(40) + Predict function(20分) + 10分文件\n",
    "1.  [Text Generation](https://colab.research.google.com/drive/1bMkAUaiivMaOr8Sd1Ui-KJeoFImEVUqA?usp=sharing) 換個其他資料集來訓練，完成就30分\n",
    "2. Stock RNN完成模型就40分\n",
    "3. preditAuthor有寫出來就20分(第七段)\n",
    "4. 10分是文件分數\n",
    "5. 記得把以上評分標準截圖、並與你的心得一起貼上pdf\n",
    "\n",
    "有問題再來信助教: lufor129@g.ncu.edu.tw\n",
    "\n",
    "或是每個禮拜一 12:00~14:00到志希館313找助教\n"
   ]
  },
  {
   "cell_type": "code",
   "execution_count": 1,
   "metadata": {
    "id": "RURvH0RWNsOQ"
   },
   "outputs": [],
   "source": [
    "import os\n",
    "\n",
    "if(os.path.isfile(\"./train.csv\") == False):\n",
    "  !wget -O train.csv \"http://140.115.82.54/NN/Recurrent/train.csv\"\n",
    "  !wget -O test.csv \"http://140.115.82.54/NN/Recurrent/test.csv\""
   ]
  },
  {
   "cell_type": "markdown",
   "metadata": {
    "id": "AopvjZOxYmky"
   },
   "source": [
    "## 1. 讀入Package"
   ]
  },
  {
   "cell_type": "code",
   "execution_count": 2,
   "metadata": {
    "id": "Z6Z6H5ibOZg0"
   },
   "outputs": [],
   "source": [
    "import tensorflow as tf\n",
    "from tensorflow import keras\n",
    "from tensorflow.keras import layers\n",
    "import numpy as np\n",
    "import matplotlib.pyplot as plt\n",
    "import pandas as pd\n",
    "import os\n",
    "import random\n",
    "import datetime\n",
    "from sklearn.preprocessing import MinMaxScaler"
   ]
  },
  {
   "cell_type": "markdown",
   "metadata": {
    "id": "1yeQBU3aYqzg"
   },
   "source": [
    "## 2. 取得資料集"
   ]
  },
  {
   "cell_type": "code",
   "execution_count": 3,
   "metadata": {
    "colab": {
     "base_uri": "https://localhost:8080/",
     "height": 221
    },
    "id": "pF1xYGzJOiQJ",
    "outputId": "11c4c7d4-19c9-4db3-ab69-a87534f80181"
   },
   "outputs": [
    {
     "name": "stdout",
     "output_type": "stream",
     "text": [
      "company :  [2317 2454 2330]\n"
     ]
    },
    {
     "data": {
      "text/html": [
       "<div>\n",
       "<style scoped>\n",
       "    .dataframe tbody tr th:only-of-type {\n",
       "        vertical-align: middle;\n",
       "    }\n",
       "\n",
       "    .dataframe tbody tr th {\n",
       "        vertical-align: top;\n",
       "    }\n",
       "\n",
       "    .dataframe thead th {\n",
       "        text-align: right;\n",
       "    }\n",
       "</style>\n",
       "<table border=\"1\" class=\"dataframe\">\n",
       "  <thead>\n",
       "    <tr style=\"text-align: right;\">\n",
       "      <th></th>\n",
       "      <th>company</th>\n",
       "      <th>date</th>\n",
       "      <th>price</th>\n",
       "    </tr>\n",
       "  </thead>\n",
       "  <tbody>\n",
       "    <tr>\n",
       "      <th>6687</th>\n",
       "      <td>2317</td>\n",
       "      <td>2012/1/2</td>\n",
       "      <td>81.4</td>\n",
       "    </tr>\n",
       "    <tr>\n",
       "      <th>6686</th>\n",
       "      <td>2317</td>\n",
       "      <td>2012/1/3</td>\n",
       "      <td>82.7</td>\n",
       "    </tr>\n",
       "    <tr>\n",
       "      <th>6685</th>\n",
       "      <td>2317</td>\n",
       "      <td>2012/1/4</td>\n",
       "      <td>83.2</td>\n",
       "    </tr>\n",
       "    <tr>\n",
       "      <th>6684</th>\n",
       "      <td>2317</td>\n",
       "      <td>2012/1/5</td>\n",
       "      <td>83.2</td>\n",
       "    </tr>\n",
       "    <tr>\n",
       "      <th>6683</th>\n",
       "      <td>2317</td>\n",
       "      <td>2012/1/6</td>\n",
       "      <td>83.9</td>\n",
       "    </tr>\n",
       "  </tbody>\n",
       "</table>\n",
       "</div>"
      ],
      "text/plain": [
       "      company      date  price\n",
       "6687     2317  2012/1/2   81.4\n",
       "6686     2317  2012/1/3   82.7\n",
       "6685     2317  2012/1/4   83.2\n",
       "6684     2317  2012/1/5   83.2\n",
       "6683     2317  2012/1/6   83.9"
      ]
     },
     "execution_count": 3,
     "metadata": {},
     "output_type": "execute_result"
    }
   ],
   "source": [
    "train_df = pd.read_csv(\"./train.csv\")\n",
    "train_df = train_df[::-1]\n",
    "print(\"company : \",train_df[\"company\"].unique())\n",
    "train_df.head()"
   ]
  },
  {
   "cell_type": "code",
   "execution_count": 4,
   "metadata": {
    "colab": {
     "base_uri": "https://localhost:8080/",
     "height": 221
    },
    "id": "gx0PFFHP3O2d",
    "outputId": "02875c6f-9973-46ea-89e8-b36d8fed6ef1"
   },
   "outputs": [
    {
     "name": "stdout",
     "output_type": "stream",
     "text": [
      "test data shape :  (117, 3)\n"
     ]
    },
    {
     "data": {
      "text/html": [
       "<div>\n",
       "<style scoped>\n",
       "    .dataframe tbody tr th:only-of-type {\n",
       "        vertical-align: middle;\n",
       "    }\n",
       "\n",
       "    .dataframe tbody tr th {\n",
       "        vertical-align: top;\n",
       "    }\n",
       "\n",
       "    .dataframe thead th {\n",
       "        text-align: right;\n",
       "    }\n",
       "</style>\n",
       "<table border=\"1\" class=\"dataframe\">\n",
       "  <thead>\n",
       "    <tr style=\"text-align: right;\">\n",
       "      <th></th>\n",
       "      <th>company</th>\n",
       "      <th>date</th>\n",
       "      <th>price</th>\n",
       "    </tr>\n",
       "  </thead>\n",
       "  <tbody>\n",
       "    <tr>\n",
       "      <th>116</th>\n",
       "      <td>2317</td>\n",
       "      <td>2021/2/1</td>\n",
       "      <td>113.0</td>\n",
       "    </tr>\n",
       "    <tr>\n",
       "      <th>115</th>\n",
       "      <td>2317</td>\n",
       "      <td>2021/2/2</td>\n",
       "      <td>116.5</td>\n",
       "    </tr>\n",
       "    <tr>\n",
       "      <th>114</th>\n",
       "      <td>2317</td>\n",
       "      <td>2021/2/3</td>\n",
       "      <td>116.5</td>\n",
       "    </tr>\n",
       "    <tr>\n",
       "      <th>113</th>\n",
       "      <td>2317</td>\n",
       "      <td>2021/2/4</td>\n",
       "      <td>114.0</td>\n",
       "    </tr>\n",
       "    <tr>\n",
       "      <th>112</th>\n",
       "      <td>2317</td>\n",
       "      <td>2021/2/5</td>\n",
       "      <td>113.5</td>\n",
       "    </tr>\n",
       "  </tbody>\n",
       "</table>\n",
       "</div>"
      ],
      "text/plain": [
       "     company      date  price\n",
       "116     2317  2021/2/1  113.0\n",
       "115     2317  2021/2/2  116.5\n",
       "114     2317  2021/2/3  116.5\n",
       "113     2317  2021/2/4  114.0\n",
       "112     2317  2021/2/5  113.5"
      ]
     },
     "execution_count": 4,
     "metadata": {},
     "output_type": "execute_result"
    }
   ],
   "source": [
    "test_df = pd.read_csv(\"./test.csv\")\n",
    "test_df = test_df[::-1]\n",
    "print(\"test data shape : \",test_df.shape)\n",
    "test_df.head()"
   ]
  },
  {
   "cell_type": "code",
   "execution_count": 5,
   "metadata": {
    "id": "d4qpw9ZaOkIq"
   },
   "outputs": [],
   "source": [
    "####################################\n",
    "#                 #\n",
    "# 自己決定哪家公司(填數字)    #\n",
    "# 請挑選一家公司來做預測     #\n",
    "#                 #\n",
    "#                 #\n",
    "####################################\n",
    "companys = {\"2330\":\"TSMC\",\"2454\":\"MEDIATEK\",\"2317\":\"FOXCONN\"}\n",
    "company_id = 2330"
   ]
  },
  {
   "cell_type": "code",
   "execution_count": 6,
   "metadata": {
    "colab": {
     "base_uri": "https://localhost:8080/",
     "height": 235
    },
    "id": "6Qkjc3kHOoD8",
    "outputId": "9bdb9792-7da8-47b3-8452-19a524e814ee"
   },
   "outputs": [
    {
     "data": {
      "text/html": [
       "<div>\n",
       "<style scoped>\n",
       "    .dataframe tbody tr th:only-of-type {\n",
       "        vertical-align: middle;\n",
       "    }\n",
       "\n",
       "    .dataframe tbody tr th {\n",
       "        vertical-align: top;\n",
       "    }\n",
       "\n",
       "    .dataframe thead th {\n",
       "        text-align: right;\n",
       "    }\n",
       "</style>\n",
       "<table border=\"1\" class=\"dataframe\">\n",
       "  <thead>\n",
       "    <tr style=\"text-align: right;\">\n",
       "      <th></th>\n",
       "      <th>company</th>\n",
       "      <th>date</th>\n",
       "      <th>price</th>\n",
       "    </tr>\n",
       "    <tr>\n",
       "      <th>date</th>\n",
       "      <th></th>\n",
       "      <th></th>\n",
       "      <th></th>\n",
       "    </tr>\n",
       "  </thead>\n",
       "  <tbody>\n",
       "    <tr>\n",
       "      <th>2012/1/2</th>\n",
       "      <td>2330</td>\n",
       "      <td>2012/1/2</td>\n",
       "      <td>75.0</td>\n",
       "    </tr>\n",
       "    <tr>\n",
       "      <th>2012/1/3</th>\n",
       "      <td>2330</td>\n",
       "      <td>2012/1/3</td>\n",
       "      <td>75.7</td>\n",
       "    </tr>\n",
       "    <tr>\n",
       "      <th>2012/1/4</th>\n",
       "      <td>2330</td>\n",
       "      <td>2012/1/4</td>\n",
       "      <td>75.8</td>\n",
       "    </tr>\n",
       "    <tr>\n",
       "      <th>2012/1/5</th>\n",
       "      <td>2330</td>\n",
       "      <td>2012/1/5</td>\n",
       "      <td>76.0</td>\n",
       "    </tr>\n",
       "    <tr>\n",
       "      <th>2012/1/6</th>\n",
       "      <td>2330</td>\n",
       "      <td>2012/1/6</td>\n",
       "      <td>75.6</td>\n",
       "    </tr>\n",
       "  </tbody>\n",
       "</table>\n",
       "</div>"
      ],
      "text/plain": [
       "          company      date  price\n",
       "date                              \n",
       "2012/1/2     2330  2012/1/2   75.0\n",
       "2012/1/3     2330  2012/1/3   75.7\n",
       "2012/1/4     2330  2012/1/4   75.8\n",
       "2012/1/5     2330  2012/1/5   76.0\n",
       "2012/1/6     2330  2012/1/6   75.6"
      ]
     },
     "execution_count": 6,
     "metadata": {},
     "output_type": "execute_result"
    }
   ],
   "source": [
    "company = train_df[train_df[\"company\"] == company_id]\n",
    "company.index = company[\"date\"]\n",
    "company.head()"
   ]
  },
  {
   "cell_type": "code",
   "execution_count": 7,
   "metadata": {
    "id": "LacIURDSOos0"
   },
   "outputs": [],
   "source": [
    "def include_last_iter(start,end,step):\n",
    "    i = start\n",
    "    while i < end:\n",
    "        yield i\n",
    "        i += step\n",
    "    yield end-1"
   ]
  },
  {
   "cell_type": "code",
   "execution_count": 8,
   "metadata": {
    "colab": {
     "base_uri": "https://localhost:8080/",
     "height": 537
    },
    "id": "ztReqaKGOpjl",
    "outputId": "ebde14c5-07c4-4fe0-ac07-8442ff1cca4d"
   },
   "outputs": [
    {
     "data": {
      "image/png": "[encoded data removed]",
      "text/plain": [
       "<Figure size 1152x576 with 3 Axes>"
      ]
     },
     "metadata": {
      "needs_background": "light"
     },
     "output_type": "display_data"
    }
   ],
   "source": [
    "plt.figure(figsize=(16, 8))\n",
    "plt.subplots_adjust(hspace=0.5)\n",
    "for index,c in enumerate(companys):\n",
    "    plt.subplot(2,2,index+1)\n",
    "    company_df = train_df[train_df[\"company\"] == int(c)]\n",
    "    plt.plot(company_df[\"date\"],company_df[\"price\"])\n",
    "    plt.xticks(list(include_last_iter(0,company_df.shape[0],250)),rotation=30)\n",
    "    plt.title(companys[c])\n",
    "    plt.xlabel(\"Date\")\n",
    "    plt.ylabel(\"price\")\n",
    "    \n",
    "plt.show()"
   ]
  },
  {
   "cell_type": "markdown",
   "metadata": {
    "id": "o-fbgns7YudB"
   },
   "source": [
    "## 3. 資料前處理"
   ]
  },
  {
   "cell_type": "code",
   "execution_count": 9,
   "metadata": {
    "colab": {
     "base_uri": "https://localhost:8080/"
    },
    "id": "sg8bkUoMOsxG",
    "outputId": "3e21144f-fddc-4dba-dc1f-1a3f4a03f408"
   },
   "outputs": [
    {
     "name": "stdout",
     "output_type": "stream",
     "text": [
      "總共有 :  2232 筆\n",
      "訓練用 : (前) 2100 筆\n",
      "驗證用 : (後) 132 筆\n"
     ]
    }
   ],
   "source": [
    "# 切分training data & validation data\n",
    "total_len = company.shape[0]\n",
    "training_len = 2100\n",
    "validation_data = total_len - training_len\n",
    "\n",
    "print(\"總共有 : \",total_len,\"筆\")\n",
    "print(\"訓練用 : (前)\",training_len,\"筆\")\n",
    "print(\"驗證用 : (後)\",validation_data,\"筆\")"
   ]
  },
  {
   "cell_type": "code",
   "execution_count": 10,
   "metadata": {
    "id": "ndsIf36gW0Wl"
   },
   "outputs": [],
   "source": [
    "# 自己做 MinMax Transformer 前處理 \n",
    "class MinMaxTransformer:\n",
    "    def __init__(self):\n",
    "        self.min = 70.1\n",
    "        self.max = 934\n",
    "        self.distance = 863.9\n",
    "\n",
    "    def fit(self,data):\n",
    "        self.min = min(data)\n",
    "        self.max = max(data)\n",
    "        self.distance = self.max - self.min\n",
    "        out = [(d-self.min)/self.distance for d in data]\n",
    "        return out\n",
    "\n",
    "    def recover(self,data):\n",
    "        out = [d*self.distance+self.min for d in data]\n",
    "        return out\n",
    "\n",
    "    def transform(self,data):\n",
    "        out = [(d-self.min)/self.distance for d in data]\n",
    "        return out\n",
    "\n",
    "    def transform_one(self,data):\n",
    "        return (data-self.min)/self.distance"
   ]
  },
  {
   "cell_type": "code",
   "execution_count": 11,
   "metadata": {
    "id": "urZjG_kDOuTP"
   },
   "outputs": [],
   "source": [
    "train_prices = company[\"price\"].values\n",
    "\n",
    "scalar = MinMaxTransformer()\n",
    "scalar_data = scalar.fit(train_prices)"
   ]
  },
  {
   "cell_type": "code",
   "execution_count": 12,
   "metadata": {
    "colab": {
     "base_uri": "https://localhost:8080/"
    },
    "id": "vRXJt6sWizwT",
    "outputId": "e4eb43f4-0132-4c21-bbc8-3884dd768e65"
   },
   "outputs": [
    {
     "name": "stdout",
     "output_type": "stream",
     "text": [
      "origin data :  [75.  75.7 75.8 76.  75.6]\n",
      "transform data :  [0.00116919993318858, 0.00233839986637716, 0.0025054284282612325, 0.0028394855520294015, 0.002171371304493063]\n",
      "recover data :  [75.0, 75.7, 75.8, 76.0, 75.6]\n"
     ]
    }
   ],
   "source": [
    "# 做正規化\n",
    "print(\"origin data : \",train_prices[:5])\n",
    "print(\"transform data : \",scalar_data[:5])\n",
    "print(\"recover data : \",scalar.recover(scalar_data[:5]))"
   ]
  },
  {
   "cell_type": "code",
   "execution_count": 13,
   "metadata": {
    "id": "Jcwp01DcVyCv"
   },
   "outputs": [],
   "source": [
    "# 切分資料集\n",
    "training_data = scalar_data[:training_len]\n",
    "validation_data = scalar_data[training_len:]"
   ]
  },
  {
   "cell_type": "code",
   "execution_count": 14,
   "metadata": {
    "id": "OGbPWD0bVT3j"
   },
   "outputs": [],
   "source": [
    "# todo 決定Seq長度\n",
    "seq_len = 10\n",
    "\n",
    "def split_input_target(seq):\n",
    "    input_txt = tf.expand_dims(seq[:-1],-1)\n",
    "    target_txt = tf.expand_dims(seq[1:],-1)\n",
    "    return input_txt,target_txt"
   ]
  },
  {
   "cell_type": "code",
   "execution_count": 15,
   "metadata": {
    "id": "HP47J0uvVcix"
   },
   "outputs": [],
   "source": [
    "def make_ds(data):\n",
    "    data_slice = tf.data.Dataset.from_tensor_slices(data)\n",
    "    data_sequence = data_slice.batch(seq_len+1,drop_remainder=True)\n",
    "\n",
    "    dataset = data_sequence.map(split_input_target)\n",
    "    return dataset"
   ]
  },
  {
   "cell_type": "code",
   "execution_count": 16,
   "metadata": {
    "id": "5ahh3yHx8f4u"
   },
   "outputs": [
    {
     "name": "stdout",
     "output_type": "stream",
     "text": [
      "Input : [array([75.]), array([75.7]), array([75.8]), array([76.]), array([75.6]), array([75.6]), array([76.5]), array([76.5]), array([77.]), array([77.5])]\n",
      "Target: [array([75.7]), array([75.8]), array([76.]), array([75.6]), array([75.6]), array([76.5]), array([76.5]), array([77.]), array([77.5]), array([75.3])]\n",
      "--------------------------------------------------\n",
      "Input : [[0.0011692 ]\n",
      " [0.0023384 ]\n",
      " [0.00250543]\n",
      " [0.00283949]\n",
      " [0.00217137]\n",
      " [0.00217137]\n",
      " [0.00367463]\n",
      " [0.00367463]\n",
      " [0.00450977]\n",
      " [0.00534491]]\n",
      "Target: [[0.0023384 ]\n",
      " [0.00250543]\n",
      " [0.00283949]\n",
      " [0.00217137]\n",
      " [0.00217137]\n",
      " [0.00367463]\n",
      " [0.00367463]\n",
      " [0.00450977]\n",
      " [0.00534491]\n",
      " [0.00167029]]\n"
     ]
    }
   ],
   "source": [
    "# 製作資料集\n",
    "train_ds = make_ds(training_data)\n",
    "val_ds = make_ds(validation_data)\n",
    "\n",
    "for input_example,target_exaple in train_ds.take(1):\n",
    "    print(\"Input :\", scalar.recover(input_example.numpy()))\n",
    "    print(\"Target:\", scalar.recover(target_exaple.numpy()))\n",
    "    print(\"-\"*50)\n",
    "    print(\"Input :\", input_example.numpy())\n",
    "    print(\"Target:\", target_exaple.numpy())"
   ]
  },
  {
   "cell_type": "code",
   "execution_count": 17,
   "metadata": {
    "id": "xfilEwW9843h"
   },
   "outputs": [],
   "source": [
    "# Batch size\n",
    "# todo 決定Batch大小\n",
    "BATCH_SIZE = 16\n",
    "\n",
    "BUFFER_SIZE = training_len\n",
    "\n",
    "train_ds = train_ds.shuffle(BUFFER_SIZE).batch(BATCH_SIZE)\n",
    "val_ds = val_ds.batch(BATCH_SIZE)"
   ]
  },
  {
   "cell_type": "markdown",
   "metadata": {
    "id": "SSlabzCtaG3Y"
   },
   "source": [
    "## 4. 建立模型\n",
    "\n",
    "提示: Output是一個數值，所以Model output維度為1。\n",
    "\n",
    "* 輸入維度應為: (batch,seq_len,1)\n",
    "\n",
    "* 輸出維度應為: (batch,seq_len,1)"
   ]
  },
  {
   "cell_type": "code",
   "execution_count": 18,
   "metadata": {
    "id": "JJ-76DoZ9FG2"
   },
   "outputs": [
    {
     "name": "stdout",
     "output_type": "stream",
     "text": [
      "Model: \"sequential\"\n",
      "_________________________________________________________________\n",
      "Layer (type)                 Output Shape              Param #   \n",
      "=================================================================\n",
      "lstm (LSTM)                  (None, 10, 4096)          67141632  \n",
      "_________________________________________________________________\n",
      "lstm_1 (LSTM)                (None, 10, 2048)          50339840  \n",
      "_________________________________________________________________\n",
      "lstm_2 (LSTM)                (None, 10, 1024)          12587008  \n",
      "_________________________________________________________________\n",
      "lstm_3 (LSTM)                (None, 10, 512)           3147776   \n",
      "_________________________________________________________________\n",
      "dense (Dense)                (None, 10, 1)             513       \n",
      "=================================================================\n",
      "Total params: 133,216,769\n",
      "Trainable params: 133,216,769\n",
      "Non-trainable params: 0\n",
      "_________________________________________________________________\n"
     ]
    }
   ],
   "source": [
    "\n",
    "# todo\n",
    "input_shape = (seq_len,1)\n",
    "\n",
    "# 使用 keras 建立一個非常簡單的 LSTM 模型\n",
    "model = tf.keras.Sequential(\n",
    "    [\n",
    "        keras.Input(shape=input_shape),\n",
    "        \n",
    "        tf.keras.layers.LSTM(\n",
    "          units=4096,\n",
    "          unroll=False,\n",
    "          return_sequences=True,\n",
    "        ),\n",
    "        \n",
    "        tf.keras.layers.LSTM(\n",
    "          units=2048,\n",
    "          unroll=False,\n",
    "          return_sequences=True,\n",
    "        ),\n",
    "        \n",
    "        tf.keras.layers.LSTM(\n",
    "          units=1024,\n",
    "          unroll=False,\n",
    "          return_sequences=True,\n",
    "        ),\n",
    "        \n",
    "        tf.keras.layers.LSTM(\n",
    "          units=512,\n",
    "          unroll=False,\n",
    "          return_sequences=True,\n",
    "        ),\n",
    "        \n",
    "        tf.keras.layers.Dense(1)\n",
    "    ]\n",
    ")\n",
    "\n",
    "model.summary()"
   ]
  },
  {
   "cell_type": "markdown",
   "metadata": {
    "id": "bsa9LxCcaJxN"
   },
   "source": [
    "## 5. 制定訓練計畫並訓練\n",
    "\n",
    "我們做數字相關預測，可以考慮用Mean_Squared_Error\n",
    "\n",
    "公式:\n",
    "$$MSE = \\frac{1}{n} \\sum_{i=1}^N({\\gamma-\\hat{\\gamma}})^2$$\n",
    "\n",
    "\n",
    "提示:\n",
    "不用管公式在幹嘛，compile帶入mean_squared_error。"
   ]
  },
  {
   "cell_type": "code",
   "execution_count": 19,
   "metadata": {
    "id": "SIBlVYai-ZuU",
    "scrolled": true
   },
   "outputs": [
    {
     "name": "stdout",
     "output_type": "stream",
     "text": [
      "Epoch 1/20\n",
      "12/12 [==============================] - 33s 1s/step - loss: 0.0461 - accuracy: 5.3123e-04 - val_loss: 0.2634 - val_accuracy: 0.0000e+00\n",
      "Epoch 2/20\n",
      "12/12 [==============================] - 1s 67ms/step - loss: 0.0108 - accuracy: 5.3123e-04 - val_loss: 0.0924 - val_accuracy: 0.0083\n",
      "Epoch 3/20\n",
      "12/12 [==============================] - 6s 574ms/step - loss: 0.0049 - accuracy: 8.1168e-04 - val_loss: 0.0472 - val_accuracy: 0.0083\n",
      "Epoch 4/20\n",
      "12/12 [==============================] - 6s 579ms/step - loss: 0.0021 - accuracy: 1.7275e-04 - val_loss: 0.0260 - val_accuracy: 0.0083\n",
      "Epoch 5/20\n",
      "12/12 [==============================] - 7s 604ms/step - loss: 0.0012 - accuracy: 5.3123e-04 - val_loss: 0.0120 - val_accuracy: 0.0083\n",
      "Epoch 6/20\n",
      "12/12 [==============================] - 6s 530ms/step - loss: 6.3646e-04 - accuracy: 1.2468e-04 - val_loss: 0.0084 - val_accuracy: 0.0083\n",
      "Epoch 7/20\n",
      "12/12 [==============================] - 1s 67ms/step - loss: 4.3423e-04 - accuracy: 4.3508e-04 - val_loss: 0.0046 - val_accuracy: 0.0083\n",
      "Epoch 8/20\n",
      "12/12 [==============================] - 7s 67ms/step - loss: 2.0129e-04 - accuracy: 2.8627e-04 - val_loss: 0.0020 - val_accuracy: 0.0083\n",
      "Epoch 9/20\n",
      "12/12 [==============================] - 7s 659ms/step - loss: 1.2239e-04 - accuracy: 1.2468e-04 - val_loss: 0.0015 - val_accuracy: 0.0083\n",
      "Epoch 10/20\n",
      "12/12 [==============================] - 6s 546ms/step - loss: 7.2608e-05 - accuracy: 5.3123e-04 - val_loss: 9.9173e-04 - val_accuracy: 0.0083\n",
      "Epoch 11/20\n",
      "12/12 [==============================] - 7s 621ms/step - loss: 4.4389e-05 - accuracy: 1.2468e-04 - val_loss: 4.3805e-04 - val_accuracy: 0.0083\n",
      "Epoch 12/20\n",
      "12/12 [==============================] - 6s 526ms/step - loss: 3.0456e-05 - accuracy: 0.0015 - val_loss: 5.5333e-04 - val_accuracy: 0.0083\n",
      "Epoch 13/20\n",
      "12/12 [==============================] - 1s 69ms/step - loss: 3.0265e-05 - accuracy: 8.1168e-04 - val_loss: 2.5976e-04 - val_accuracy: 0.0083\n",
      "Epoch 14/20\n",
      "12/12 [==============================] - 6s 516ms/step - loss: 2.9328e-05 - accuracy: 2.2617e-04 - val_loss: 5.0767e-04 - val_accuracy: 0.0083\n",
      "Epoch 15/20\n",
      "12/12 [==============================] - 7s 650ms/step - loss: 2.4776e-05 - accuracy: 5.3123e-04 - val_loss: 3.7418e-04 - val_accuracy: 0.0083\n",
      "Epoch 16/20\n",
      "12/12 [==============================] - 6s 508ms/step - loss: 3.0005e-05 - accuracy: 8.0972e-05 - val_loss: 3.1226e-04 - val_accuracy: 0.0083\n",
      "Epoch 17/20\n",
      "12/12 [==============================] - 6s 502ms/step - loss: 2.3570e-05 - accuracy: 0.0015 - val_loss: 3.7357e-04 - val_accuracy: 0.0083\n",
      "Epoch 18/20\n",
      "12/12 [==============================] - 5s 485ms/step - loss: 2.3462e-05 - accuracy: 0.0011 - val_loss: 3.7435e-04 - val_accuracy: 0.0083\n",
      "Epoch 19/20\n",
      "12/12 [==============================] - 1s 67ms/step - loss: 3.1143e-05 - accuracy: 8.1168e-04 - val_loss: 3.3792e-04 - val_accuracy: 0.0083\n",
      "Epoch 20/20\n",
      "12/12 [==============================] - 7s 586ms/step - loss: 2.7362e-05 - accuracy: 3.5495e-04 - val_loss: 2.7776e-04 - val_accuracy: 0.0083\n"
     ]
    }
   ],
   "source": [
    "# todo\n",
    "Epochs = 20\n",
    "\n",
    "# todo\n",
    "# model.compile\n",
    "model.compile(loss=\"mse\", optimizer=\"adam\", metrics=['accuracy'])\n",
    "\n",
    "# todo\n",
    "# model.fit\n",
    "history = model.fit(\n",
    "    train_ds, # 前面使用 tf.data 建構的資料集\n",
    "    epochs = Epochs,\n",
    "    validation_data=val_ds\n",
    ")"
   ]
  },
  {
   "cell_type": "markdown",
   "metadata": {
    "id": "4fLe9uGZaMBJ"
   },
   "source": [
    "## 6. 評估模型"
   ]
  },
  {
   "cell_type": "code",
   "execution_count": 20,
   "metadata": {
    "id": "j3T68McvCkcl"
   },
   "outputs": [
    {
     "data": {
      "image/png": "[encoded data removed]",
      "text/plain": [
       "<Figure size 432x288 with 1 Axes>"
      ]
     },
     "metadata": {
      "needs_background": "light"
     },
     "output_type": "display_data"
    }
   ],
   "source": [
    "l1, = plt.plot(history.history['loss'])\n",
    "l2, = plt.plot(history.history['val_loss'])\n",
    "plt.legend(handles=[l1,l2],labels=['loss','val_loss'],loc='best')\n",
    "plt.title('model loss')\n",
    "plt.ylabel('loss')\n",
    "plt.xlabel('epoch')\n",
    "\n",
    "plt.show()"
   ]
  },
  {
   "cell_type": "code",
   "execution_count": 21,
   "metadata": {
    "id": "CUoUTu8KC_Sq"
   },
   "outputs": [
    {
     "data": {
      "text/html": [
       "<div>\n",
       "<style scoped>\n",
       "    .dataframe tbody tr th:only-of-type {\n",
       "        vertical-align: middle;\n",
       "    }\n",
       "\n",
       "    .dataframe tbody tr th {\n",
       "        vertical-align: top;\n",
       "    }\n",
       "\n",
       "    .dataframe thead th {\n",
       "        text-align: right;\n",
       "    }\n",
       "</style>\n",
       "<table border=\"1\" class=\"dataframe\">\n",
       "  <thead>\n",
       "    <tr style=\"text-align: right;\">\n",
       "      <th></th>\n",
       "      <th>company</th>\n",
       "      <th>date</th>\n",
       "      <th>price</th>\n",
       "    </tr>\n",
       "  </thead>\n",
       "  <tbody>\n",
       "    <tr>\n",
       "      <th>38</th>\n",
       "      <td>2330</td>\n",
       "      <td>2021/2/1</td>\n",
       "      <td>611.0</td>\n",
       "    </tr>\n",
       "    <tr>\n",
       "      <th>37</th>\n",
       "      <td>2330</td>\n",
       "      <td>2021/2/2</td>\n",
       "      <td>632.0</td>\n",
       "    </tr>\n",
       "    <tr>\n",
       "      <th>36</th>\n",
       "      <td>2330</td>\n",
       "      <td>2021/2/3</td>\n",
       "      <td>630.0</td>\n",
       "    </tr>\n",
       "    <tr>\n",
       "      <th>35</th>\n",
       "      <td>2330</td>\n",
       "      <td>2021/2/4</td>\n",
       "      <td>627.0</td>\n",
       "    </tr>\n",
       "    <tr>\n",
       "      <th>34</th>\n",
       "      <td>2330</td>\n",
       "      <td>2021/2/5</td>\n",
       "      <td>632.0</td>\n",
       "    </tr>\n",
       "  </tbody>\n",
       "</table>\n",
       "</div>"
      ],
      "text/plain": [
       "    company      date  price\n",
       "38     2330  2021/2/1  611.0\n",
       "37     2330  2021/2/2  632.0\n",
       "36     2330  2021/2/3  630.0\n",
       "35     2330  2021/2/4  627.0\n",
       "34     2330  2021/2/5  632.0"
      ]
     },
     "execution_count": 21,
     "metadata": {},
     "output_type": "execute_result"
    }
   ],
   "source": [
    "test_company = test_df[test_df[\"company\"] == company_id]\n",
    "test_company.head()"
   ]
  },
  {
   "cell_type": "markdown",
   "metadata": {
    "id": "JaDw00V8Z-Lw"
   },
   "source": [
    "## 7. 做預測 (20分)"
   ]
  },
  {
   "cell_type": "code",
   "execution_count": 22,
   "metadata": {
    "id": "vFf2lmOFElai",
    "scrolled": true
   },
   "outputs": [
    {
     "name": "stdout",
     "output_type": "stream",
     "text": [
      "[0.85539031]\n",
      "[0.85539031 0.88831758]\n",
      "[0.85539031 0.88831758 0.92041671]\n",
      "[0.85539031 0.88831758 0.92041671 0.91565216]\n",
      "[0.85539031 0.88831758 0.92041671 0.91565216 0.91137475]\n",
      "[0.85539031 0.88831758 0.92041671 0.91565216 0.91137475 0.91975141]\n",
      "[0.85539031 0.88831758 0.92041671 0.91565216 0.91137475 0.91975141\n",
      " 0.96973211]\n",
      "[0.85539031 0.88831758 0.92041671 0.91565216 0.91137475 0.91975141\n",
      " 0.96973211 0.96214759]\n",
      "[0.85539031 0.88831758 0.92041671 0.91565216 0.91137475 0.91975141\n",
      " 0.96973211 0.96214759 0.95012981]\n",
      "[0.85539031 0.88831758 0.92041671 0.91565216 0.91137475 0.91975141\n",
      " 0.96973211 0.96214759 0.95012981 0.94804144]\n",
      "[0.85539031 0.88831758 0.92041671 0.91565216 0.91137475 0.91975141\n",
      " 0.96973211 0.96214759 0.95012981 0.94804144 0.93367386]\n",
      "[0.85539031 0.88831758 0.92041671 0.91565216 0.91137475 0.91975141\n",
      " 0.96973211 0.96214759 0.95012981 0.94804144 0.93367386 0.90898788]\n",
      "[0.85539031 0.88831758 0.92041671 0.91565216 0.91137475 0.91975141\n",
      " 0.96973211 0.96214759 0.95012981 0.94804144 0.93367386 0.90898788\n",
      " 0.92598361]\n",
      "[0.85539031 0.88831758 0.92041671 0.91565216 0.91137475 0.91975141\n",
      " 0.96973211 0.96214759 0.95012981 0.94804144 0.93367386 0.90898788\n",
      " 0.92598361 0.8778708 ]\n",
      "[0.85539031 0.88831758 0.92041671 0.91565216 0.91137475 0.91975141\n",
      " 0.96973211 0.96214759 0.95012981 0.94804144 0.93367386 0.90898788\n",
      " 0.92598361 0.8778708  0.88501728]\n",
      "[0.85539031 0.88831758 0.92041671 0.91565216 0.91137475 0.91975141\n",
      " 0.96973211 0.96214759 0.95012981 0.94804144 0.93367386 0.90898788\n",
      " 0.92598361 0.8778708  0.88501728 0.90543032]\n",
      "[0.85539031 0.88831758 0.92041671 0.91565216 0.91137475 0.91975141\n",
      " 0.96973211 0.96214759 0.95012981 0.94804144 0.93367386 0.90898788\n",
      " 0.92598361 0.8778708  0.88501728 0.90543032 0.86976224]\n",
      "[0.85539031 0.88831758 0.92041671 0.91565216 0.91137475 0.91975141\n",
      " 0.96973211 0.96214759 0.95012981 0.94804144 0.93367386 0.90898788\n",
      " 0.92598361 0.8778708  0.88501728 0.90543032 0.86976224 0.87190509]\n",
      "[0.85539031 0.88831758 0.92041671 0.91565216 0.91137475 0.91975141\n",
      " 0.96973211 0.96214759 0.95012981 0.94804144 0.93367386 0.90898788\n",
      " 0.92598361 0.8778708  0.88501728 0.90543032 0.86976224 0.87190509\n",
      " 0.86627531]\n",
      "[0.85539031 0.88831758 0.92041671 0.91565216 0.91137475 0.91975141\n",
      " 0.96973211 0.96214759 0.95012981 0.94804144 0.93367386 0.90898788\n",
      " 0.92598361 0.8778708  0.88501728 0.90543032 0.86976224 0.87190509\n",
      " 0.86627531 0.86139959]\n",
      "[0.85539031 0.88831758 0.92041671 0.91565216 0.91137475 0.91975141\n",
      " 0.96973211 0.96214759 0.95012981 0.94804144 0.93367386 0.90898788\n",
      " 0.92598361 0.8778708  0.88501728 0.90543032 0.86976224 0.87190509\n",
      " 0.86627531 0.86139959 0.86497301]\n",
      "[0.85539031 0.88831758 0.92041671 0.91565216 0.91137475 0.91975141\n",
      " 0.96973211 0.96214759 0.95012981 0.94804144 0.93367386 0.90898788\n",
      " 0.92598361 0.8778708  0.88501728 0.90543032 0.86976224 0.87190509\n",
      " 0.86627531 0.86139959 0.86497301 0.88371199]\n",
      "[0.85539031 0.88831758 0.92041671 0.91565216 0.91137475 0.91975141\n",
      " 0.96973211 0.96214759 0.95012981 0.94804144 0.93367386 0.90898788\n",
      " 0.92598361 0.8778708  0.88501728 0.90543032 0.86976224 0.87190509\n",
      " 0.86627531 0.86139959 0.86497301 0.88371199 0.89091659]\n",
      "[0.85539031 0.88831758 0.92041671 0.91565216 0.91137475 0.91975141\n",
      " 0.96973211 0.96214759 0.95012981 0.94804144 0.93367386 0.90898788\n",
      " 0.92598361 0.8778708  0.88501728 0.90543032 0.86976224 0.87190509\n",
      " 0.86627531 0.86139959 0.86497301 0.88371199 0.89091659 0.88590956]\n",
      "[0.85539031 0.88831758 0.92041671 0.91565216 0.91137475 0.91975141\n",
      " 0.96973211 0.96214759 0.95012981 0.94804144 0.93367386 0.90898788\n",
      " 0.92598361 0.8778708  0.88501728 0.90543032 0.86976224 0.87190509\n",
      " 0.86627531 0.86139959 0.86497301 0.88371199 0.89091659 0.88590956\n",
      " 0.88960367]\n",
      "[0.85539031 0.88831758 0.92041671 0.91565216 0.91137475 0.91975141\n",
      " 0.96973211 0.96214759 0.95012981 0.94804144 0.93367386 0.90898788\n",
      " 0.92598361 0.8778708  0.88501728 0.90543032 0.86976224 0.87190509\n",
      " 0.86627531 0.86139959 0.86497301 0.88371199 0.89091659 0.88590956\n",
      " 0.88960367 0.87484807]\n",
      "[0.85539031 0.88831758 0.92041671 0.91565216 0.91137475 0.91975141\n",
      " 0.96973211 0.96214759 0.95012981 0.94804144 0.93367386 0.90898788\n",
      " 0.92598361 0.8778708  0.88501728 0.90543032 0.86976224 0.87190509\n",
      " 0.86627531 0.86139959 0.86497301 0.88371199 0.89091659 0.88590956\n",
      " 0.88960367 0.87484807 0.87243354]\n",
      "[0.85539031 0.88831758 0.92041671 0.91565216 0.91137475 0.91975141\n",
      " 0.96973211 0.96214759 0.95012981 0.94804144 0.93367386 0.90898788\n",
      " 0.92598361 0.8778708  0.88501728 0.90543032 0.86976224 0.87190509\n",
      " 0.86627531 0.86139959 0.86497301 0.88371199 0.89091659 0.88590956\n",
      " 0.88960367 0.87484807 0.87243354 0.85464871]\n",
      "[0.85539031 0.88831758 0.92041671 0.91565216 0.91137475 0.91975141\n",
      " 0.96973211 0.96214759 0.95012981 0.94804144 0.93367386 0.90898788\n",
      " 0.92598361 0.8778708  0.88501728 0.90543032 0.86976224 0.87190509\n",
      " 0.86627531 0.86139959 0.86497301 0.88371199 0.89091659 0.88590956\n",
      " 0.88960367 0.87484807 0.87243354 0.85464871 0.85842991]\n",
      "[0.85539031 0.88831758 0.92041671 0.91565216 0.91137475 0.91975141\n",
      " 0.96973211 0.96214759 0.95012981 0.94804144 0.93367386 0.90898788\n",
      " 0.92598361 0.8778708  0.88501728 0.90543032 0.86976224 0.87190509\n",
      " 0.86627531 0.86139959 0.86497301 0.88371199 0.89091659 0.88590956\n",
      " 0.88960367 0.87484807 0.87243354 0.85464871 0.85842991 0.85980535]\n",
      "[0.85539031 0.88831758 0.92041671 0.91565216 0.91137475 0.91975141\n",
      " 0.96973211 0.96214759 0.95012981 0.94804144 0.93367386 0.90898788\n",
      " 0.92598361 0.8778708  0.88501728 0.90543032 0.86976224 0.87190509\n",
      " 0.86627531 0.86139959 0.86497301 0.88371199 0.89091659 0.88590956\n",
      " 0.88960367 0.87484807 0.87243354 0.85464871 0.85842991 0.85980535\n",
      " 0.83038938]\n",
      "[0.85539031 0.88831758 0.92041671 0.91565216 0.91137475 0.91975141\n",
      " 0.96973211 0.96214759 0.95012981 0.94804144 0.93367386 0.90898788\n",
      " 0.92598361 0.8778708  0.88501728 0.90543032 0.86976224 0.87190509\n",
      " 0.86627531 0.86139959 0.86497301 0.88371199 0.89091659 0.88590956\n",
      " 0.88960367 0.87484807 0.87243354 0.85464871 0.85842991 0.85980535\n",
      " 0.83038938 0.83009529]\n",
      "[0.85539031 0.88831758 0.92041671 0.91565216 0.91137475 0.91975141\n",
      " 0.96973211 0.96214759 0.95012981 0.94804144 0.93367386 0.90898788\n",
      " 0.92598361 0.8778708  0.88501728 0.90543032 0.86976224 0.87190509\n",
      " 0.86627531 0.86139959 0.86497301 0.88371199 0.89091659 0.88590956\n",
      " 0.88960367 0.87484807 0.87243354 0.85464871 0.85842991 0.85980535\n",
      " 0.83038938 0.83009529 0.85404223]\n",
      "[0.85539031 0.88831758 0.92041671 0.91565216 0.91137475 0.91975141\n",
      " 0.96973211 0.96214759 0.95012981 0.94804144 0.93367386 0.90898788\n",
      " 0.92598361 0.8778708  0.88501728 0.90543032 0.86976224 0.87190509\n",
      " 0.86627531 0.86139959 0.86497301 0.88371199 0.89091659 0.88590956\n",
      " 0.88960367 0.87484807 0.87243354 0.85464871 0.85842991 0.85980535\n",
      " 0.83038938 0.83009529 0.85404223 0.86731184]\n",
      "[0.85539031 0.88831758 0.92041671 0.91565216 0.91137475 0.91975141\n",
      " 0.96973211 0.96214759 0.95012981 0.94804144 0.93367386 0.90898788\n",
      " 0.92598361 0.8778708  0.88501728 0.90543032 0.86976224 0.87190509\n",
      " 0.86627531 0.86139959 0.86497301 0.88371199 0.89091659 0.88590956\n",
      " 0.88960367 0.87484807 0.87243354 0.85464871 0.85842991 0.85980535\n",
      " 0.83038938 0.83009529 0.85404223 0.86731184 0.86362839]\n",
      "[0.85539031 0.88831758 0.92041671 0.91565216 0.91137475 0.91975141\n",
      " 0.96973211 0.96214759 0.95012981 0.94804144 0.93367386 0.90898788\n",
      " 0.92598361 0.8778708  0.88501728 0.90543032 0.86976224 0.87190509\n",
      " 0.86627531 0.86139959 0.86497301 0.88371199 0.89091659 0.88590956\n",
      " 0.88960367 0.87484807 0.87243354 0.85464871 0.85842991 0.85980535\n",
      " 0.83038938 0.83009529 0.85404223 0.86731184 0.86362839 0.84766901]\n",
      "[0.85539031 0.88831758 0.92041671 0.91565216 0.91137475 0.91975141\n",
      " 0.96973211 0.96214759 0.95012981 0.94804144 0.93367386 0.90898788\n",
      " 0.92598361 0.8778708  0.88501728 0.90543032 0.86976224 0.87190509\n",
      " 0.86627531 0.86139959 0.86497301 0.88371199 0.89091659 0.88590956\n",
      " 0.88960367 0.87484807 0.87243354 0.85464871 0.85842991 0.85980535\n",
      " 0.83038938 0.83009529 0.85404223 0.86731184 0.86362839 0.84766901\n",
      " 0.8728314 ]\n",
      "[0.85539031 0.88831758 0.92041671 0.91565216 0.91137475 0.91975141\n",
      " 0.96973211 0.96214759 0.95012981 0.94804144 0.93367386 0.90898788\n",
      " 0.92598361 0.8778708  0.88501728 0.90543032 0.86976224 0.87190509\n",
      " 0.86627531 0.86139959 0.86497301 0.88371199 0.89091659 0.88590956\n",
      " 0.88960367 0.87484807 0.87243354 0.85464871 0.85842991 0.85980535\n",
      " 0.83038938 0.83009529 0.85404223 0.86731184 0.86362839 0.84766901\n",
      " 0.8728314  0.88466156]\n",
      "[0.85539031 0.88831758 0.92041671 0.91565216 0.91137475 0.91975141\n",
      " 0.96973211 0.96214759 0.95012981 0.94804144 0.93367386 0.90898788\n",
      " 0.92598361 0.8778708  0.88501728 0.90543032 0.86976224 0.87190509\n",
      " 0.86627531 0.86139959 0.86497301 0.88371199 0.89091659 0.88590956\n",
      " 0.88960367 0.87484807 0.87243354 0.85464871 0.85842991 0.85980535\n",
      " 0.83038938 0.83009529 0.85404223 0.86731184 0.86362839 0.84766901\n",
      " 0.8728314  0.88466156 0.88412851]\n"
     ]
    }
   ],
   "source": [
    "# 預測 Test data\n",
    "# 現在我們取出了選定公司最後seq_len天\n",
    "# 我們模型透過讀取seq_len天後預測出seq_len+1天的價格\n",
    "\n",
    "# 將日期保存在datas中 (list)\n",
    "# 將真實價格保存在real_prices中 (list)\n",
    "# 將預測價格保存在pred_prices中 (list) *注: 請填入經過正規化後的價格\n",
    "\n",
    "# input是一個經過**正規化**的真實價格list，請試著遍歷test_company來填滿上述三個list\n",
    "# 可以TextGeneration的generateWords function，概念一樣，但是這次input請全部都填入\"真實價格\"\n",
    "\n",
    "init_price = company.iloc[-seq_len:,:][\"price\"].values\n",
    "dates = []\n",
    "real_prices = []\n",
    "pred_prices = []\n",
    "input = scalar.transform(init_price)\n",
    "\n",
    "for index,row in test_company.iterrows():\n",
    "  # 我已經幫你把real_price和date放入list\n",
    "    real_price = row[\"price\"]\n",
    "    real_prices.append(real_price)\n",
    "    date = row[\"date\"]\n",
    "    dates.append(date)\n",
    "  # 參考步驟:\n",
    "  # 1. 把input轉維度成一個新變數next_input丟入model\n",
    "  # 2. 獲得的pred取出seq中最後一個時間點的output數值 (提示: [0,-1,0])\n",
    "  # 3. 把pred丟入pred_prices中\n",
    "  # 4. 加入一個經過transform_one轉換的real_price在input後面\n",
    "  # 5. 保持input長度在seq_len長 (也就是把最前面的數字踢掉)\n",
    "  ##########\n",
    "  # todo #\n",
    "    \n",
    "    input = np.array(input)\n",
    "\n",
    "    next_input = np.reshape(input, (-1,seq_len,1))\n",
    "    next_input = model(next_input)[0,-1,0]\n",
    "    pred_prices = np.append(pred_prices, next_input)\n",
    "    r_price = scalar.transform_one(real_price)\n",
    "    input = np.append(input, r_price)\n",
    "    input = np.delete(input, 0, axis= 0)\n",
    "    print(pred_prices)"
   ]
  },
  {
   "cell_type": "code",
   "execution_count": 23,
   "metadata": {
    "id": "1TIRXmjWbbXq"
   },
   "outputs": [
    {
     "name": "stdout",
     "output_type": "stream",
     "text": [
      "dates : ['2021/2/1', '2021/2/2', '2021/2/3', '2021/2/4', '2021/2/5', '2021/2/17', '2021/2/18', '2021/2/19', '2021/2/22', '2021/2/23']\n",
      "real_prices : [611.0, 632.0, 630.0, 627.0, 632.0, 663.0, 660.0, 652.0, 650.0, 641.0]\n",
      "pred_prices : [0.85539031 0.88831758 0.92041671 0.91565216 0.91137475 0.91975141\n",
      " 0.96973211 0.96214759 0.95012981 0.94804144]\n"
     ]
    }
   ],
   "source": [
    "print(f\"dates : {dates[:10]}\")\n",
    "print(f\"real_prices : {real_prices[:10]}\")\n",
    "print(f\"pred_prices : {pred_prices[:10]}\")"
   ]
  },
  {
   "cell_type": "markdown",
   "metadata": {
    "id": "cukTAdbxbGKN"
   },
   "source": [
    "* 預期結果:\n",
    "\n",
    "![](https://i.imgur.com/iXdMWD6.png)"
   ]
  },
  {
   "cell_type": "code",
   "execution_count": 24,
   "metadata": {
    "id": "mAxyVvCsO1Ei"
   },
   "outputs": [
    {
     "data": {
      "image/png": "[encoded data removed]",
      "text/plain": [
       "<Figure size 1152x576 with 1 Axes>"
      ]
     },
     "metadata": {
      "needs_background": "light"
     },
     "output_type": "display_data"
    }
   ],
   "source": [
    "plt.figure(figsize=(16, 8))\n",
    "l1, = plt.plot(dates,real_prices)\n",
    "l2, = plt.plot(dates,scalar.recover(pred_prices))\n",
    "plt.xticks(list(include_last_iter(0,len(dates),3)),rotation=30)\n",
    "plt.legend(handles=[l1,l2],labels=['Real','Pred'],loc='best')\n",
    "plt.title(companys[str(company_id)])\n",
    "plt.xlabel(\"Date\")\n",
    "plt.ylabel(\"price\")\n",
    "plt.show()"
   ]
  },
  {
   "cell_type": "markdown",
   "metadata": {
    "id": "zXrQ1B1majO2"
   },
   "source": [
    "* 預期成果\n",
    "\n",
    "照理來說不會100%猜中，猜中幾乎100%可能是不小心偷看答案了\n",
    "\n",
    "![](https://i.imgur.com/tFoKEyK.png)"
   ]
  },
  {
   "cell_type": "code",
   "execution_count": null,
   "metadata": {
    "id": "frMQqSZ-kpwF"
   },
   "outputs": [],
   "source": []
  },
  {
   "cell_type": "code",
   "execution_count": null,
   "metadata": {},
   "outputs": [],
   "source": []
  }
 ],
 "metadata": {
  "accelerator": "GPU",
  "colab": {
   "collapsed_sections": [],
   "name": "StockRNN-學號.ipynb",
   "provenance": []
  },
  "kernelspec": {
   "display_name": "Python 3",
   "language": "python",
   "name": "python3"
  },
  "language_info": {
   "codemirror_mode": {
    "name": "ipython",
    "version": 3
   },
   "file_extension": ".py",
   "mimetype": "text/x-python",
   "name": "python",
   "nbconvert_exporter": "python",
   "pygments_lexer": "ipython3",
   "version": "3.7.10"
  }
 },
 "nbformat": 4,
 "nbformat_minor": 1
}
